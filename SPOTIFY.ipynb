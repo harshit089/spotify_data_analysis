{
  "nbformat": 4,
  "nbformat_minor": 0,
  "metadata": {
    "colab": {
      "provenance": [],
      "include_colab_link": true
    },
    "kernelspec": {
      "name": "python3",
      "display_name": "Python 3"
    },
    "language_info": {
      "name": "python"
    }
  },
  "cells": [
    {
      "cell_type": "markdown",
      "metadata": {
        "id": "view-in-github",
        "colab_type": "text"
      },
      "source": [
        "<a href=\"https://colab.research.google.com/github/harshit089/spotify_data_analysis/blob/main/SPOTIFY.ipynb\" target=\"_parent\"><img src=\"https://colab.research.google.com/assets/colab-badge.svg\" alt=\"Open In Colab\"/></a>"
      ]
    },
    {
      "cell_type": "code",
      "execution_count": null,
      "metadata": {
        "id": "h0CHe4YuGuS3"
      },
      "outputs": [],
      "source": [
        "import os\n",
        "import pandas as pd\n",
        "import numpy as np"
      ]
    },
    {
      "cell_type": "code",
      "source": [
        "!mkdir -p ~/.kaggle\n",
        "!cp kaggle.json ~/.kaggle/\n",
        "!chmod 600 ~/.kaggle/kaggle.json"
      ],
      "metadata": {
        "id": "qt6Zs5NDG7k4"
      },
      "execution_count": null,
      "outputs": []
    },
    {
      "cell_type": "code",
      "source": [
        "! kaggle datasets download mohamedhamad21/spotify-tracks-dataset"
      ],
      "metadata": {
        "id": "tqJm9YHpG_L7"
      },
      "execution_count": null,
      "outputs": []
    },
    {
      "cell_type": "code",
      "source": [
        "!unzip \\*.zip\n"
      ],
      "metadata": {
        "id": "BNLidO0FHD-c"
      },
      "execution_count": null,
      "outputs": []
    },
    {
      "cell_type": "code",
      "source": [
        "import numpy as np\n",
        "import pandas as pd\n",
        "import seaborn as sns\n",
        "import matplotlib.pyplot as plt\n",
        "from sklearn.metrics.pairwise import cosine_similarity\n",
        "from sklearn.feature_extraction.text import CountVectorizer"
      ],
      "metadata": {
        "id": "1YFco-0eHJ2k"
      },
      "execution_count": null,
      "outputs": []
    },
    {
      "cell_type": "code",
      "source": [
        "df = pd.read_csv('dataset.csv')\n"
      ],
      "metadata": {
        "id": "bOrIVp2OHg5p"
      },
      "execution_count": null,
      "outputs": []
    },
    {
      "cell_type": "code",
      "source": [
        "df.head(10)"
      ],
      "metadata": {
        "id": "0pYyi69ZHlkE"
      },
      "execution_count": null,
      "outputs": []
    },
    {
      "cell_type": "code",
      "source": [
        "df.shape\n"
      ],
      "metadata": {
        "id": "y9gjK0dbHo1B"
      },
      "execution_count": null,
      "outputs": []
    },
    {
      "cell_type": "code",
      "source": [
        "df.columns"
      ],
      "metadata": {
        "id": "hbzN5m60Hy4d"
      },
      "execution_count": null,
      "outputs": []
    },
    {
      "cell_type": "code",
      "source": [
        "df.describe()"
      ],
      "metadata": {
        "id": "qfwCPW-TH0L-"
      },
      "execution_count": null,
      "outputs": []
    },
    {
      "cell_type": "code",
      "source": [
        "df.info()"
      ],
      "metadata": {
        "id": "DcWdeXnMH7KR"
      },
      "execution_count": null,
      "outputs": []
    },
    {
      "cell_type": "code",
      "source": [
        "df.isnull()"
      ],
      "metadata": {
        "id": "gjQmC-I8H8h3"
      },
      "execution_count": null,
      "outputs": []
    },
    {
      "cell_type": "code",
      "source": [
        "#HANDLING NULL VALUES"
      ],
      "metadata": {
        "id": "ixhTH6GwMiqf"
      },
      "execution_count": null,
      "outputs": []
    },
    {
      "cell_type": "code",
      "source": [
        "df['artists']=df['artists'].fillna('x')\n",
        "df['album_name']=df['album_name'].fillna('x')\n",
        "df['track_name']=df['track_name'].fillna('x')"
      ],
      "metadata": {
        "id": "P2brF0HQLrfz"
      },
      "execution_count": null,
      "outputs": []
    },
    {
      "cell_type": "code",
      "source": [
        "df = df.drop(['track_id','Unnamed: 0'], axis=1)\n",
        "df.head(5)"
      ],
      "metadata": {
        "id": "MnO2jvohL1og"
      },
      "execution_count": null,
      "outputs": []
    },
    {
      "cell_type": "code",
      "source": [
        "most_popular_artists = df.sort_values(by='popularity', ascending=False).iloc[:5]\n",
        "\n",
        "most_popular_artists[['artists', 'popularity','track_name']]"
      ],
      "metadata": {
        "id": "tSGeqsLPIA6Y"
      },
      "execution_count": null,
      "outputs": []
    },
    {
      "cell_type": "code",
      "source": [
        "genre_counts = df['track_genre'].value_counts()\n",
        "print(\"\\nNumber of tracks in each genre:\")\n",
        "print(genre_counts)"
      ],
      "metadata": {
        "id": "uZu9ZXvoILNq"
      },
      "execution_count": null,
      "outputs": []
    },
    {
      "cell_type": "code",
      "source": [
        "plt.figure(figsize=(10, 6))\n",
        "sns.histplot(df['duration_ms'] / 60000, bins=30, kde=True, color='skyblue')\n",
        "plt.title('Distribution of Track Durations')\n",
        "plt.xlabel('Duration (minutes)')\n",
        "plt.ylabel('Count')\n",
        "plt.show()"
      ],
      "metadata": {
        "id": "_zv9HHzlIPam"
      },
      "execution_count": null,
      "outputs": []
    },
    {
      "cell_type": "code",
      "source": [
        "avg_popularity = df.groupby('track_genre')['popularity'].mean().sort_values(ascending=False)\n",
        "\n",
        "plt.figure(figsize=(20, 10))\n",
        "sns.barplot(x=avg_popularity.index, y=avg_popularity.values, palette='coolwarm')\n",
        "plt.title('Average Popularity by Genre')\n",
        "plt.xlabel('Genre')\n",
        "plt.ylabel('Average Popularity')\n",
        "plt.xticks(rotation=90)\n",
        "plt.show()"
      ],
      "metadata": {
        "id": "lPCEAKDAIVgV"
      },
      "execution_count": null,
      "outputs": []
    },
    {
      "cell_type": "code",
      "source": [
        "music_genre=df['track_genre'].value_counts()\n",
        "top_20_genre=music_genre.head(20)\n",
        "plt.figure(figsize=(10, 6))\n",
        "sns.barplot(x=top_20_genre.values, y=top_20_genre.index)\n",
        "plt.title('Top 20 Genres')\n",
        "plt.xlabel('Count')\n",
        "plt.ylabel('Genres')\n",
        "plt.show()"
      ],
      "metadata": {
        "id": "QqnvUNzNIX8U"
      },
      "execution_count": null,
      "outputs": []
    },
    {
      "cell_type": "code",
      "source": [
        "plt.figure(figsize=(8, 6))\n",
        "sns.boxplot(x='mode', y='loudness', data=df, palette='Set2')\n",
        "plt.title('Loudness Distribution by Mode')\n",
        "plt.xlabel('Mode (Major=1, Minor=0)')\n",
        "plt.ylabel('Loudness (dB)')\n",
        "plt.xticks([0, 1], ['Minor', 'Major'])\n",
        "plt.show()"
      ],
      "metadata": {
        "id": "tz025635Iswh"
      },
      "execution_count": null,
      "outputs": []
    },
    {
      "cell_type": "code",
      "source": [
        "music_explicit=df['explicit'].value_counts()\n",
        "plt.figure(figsize=(10,6))\n",
        "music_explicit.plot(kind='bar',color='orange')\n",
        "plt.title('Explicit/Non-Explicit song count')\n",
        "plt.xlabel('Song Type')\n",
        "plt.ylabel('Count')\n",
        "plt.show()"
      ],
      "metadata": {
        "id": "Gs3lTolPIxXH"
      },
      "execution_count": null,
      "outputs": []
    },
    {
      "cell_type": "code",
      "source": [
        "# Plotting a box plot of energy by genre\n",
        "plt.figure(figsize=(20, 8))\n",
        "sns.boxplot(x='track_genre', y='energy', data=df, palette='Set2')\n",
        "plt.title('Energy Levels by Genre')\n",
        "plt.xlabel('Genre')\n",
        "plt.ylabel('Energy')\n",
        "plt.xticks(rotation=90)\n",
        "plt.show()"
      ],
      "metadata": {
        "id": "LjVXtUJPKciZ"
      },
      "execution_count": null,
      "outputs": []
    },
    {
      "cell_type": "code",
      "source": [
        "max_duration_ms = df['duration_ms'].max()\n",
        "\n",
        "max_duration_ms=max_duration_ms/1000;\n",
        "max_duration_ms=max_duration_ms/60\n",
        "print(f'Maximum Track Duration in minutes: {max_duration_ms:.2f}')"
      ],
      "metadata": {
        "id": "ZLpOjfdEI21H"
      },
      "execution_count": null,
      "outputs": []
    },
    {
      "cell_type": "code",
      "source": [
        "min_duration_ms = df['duration_ms'].min()\n",
        "min_duration_ms=min_duration_ms/1000;\n",
        "min_duration_ms=min_duration_ms/60\n",
        "print(f'Minimum Track Duration in minutes: {min_duration_ms:.2f}')\n"
      ],
      "metadata": {
        "id": "FIvtwOGTJdop"
      },
      "execution_count": null,
      "outputs": []
    },
    {
      "cell_type": "code",
      "source": [
        "#THIS DOES NOT SEEM CORRECT"
      ],
      "metadata": {
        "id": "MyD9VVKTMJPc"
      },
      "execution_count": null,
      "outputs": []
    },
    {
      "cell_type": "code",
      "source": [
        "df=df[df['artists'] != 'x']\n"
      ],
      "metadata": {
        "id": "VYnHBf6CLXXc"
      },
      "execution_count": null,
      "outputs": []
    },
    {
      "cell_type": "code",
      "source": [
        "song=df['duration_ms'].idxmin()\n",
        "shortest_song=df.loc[song]\n",
        "print(shortest_song)"
      ],
      "metadata": {
        "id": "x-JjCy_4Lbe4"
      },
      "execution_count": null,
      "outputs": []
    },
    {
      "cell_type": "code",
      "source": [
        "song=df['duration_ms'].idxmax()\n",
        "longest_song=df.loc[song]\n",
        "print(longest_song)"
      ],
      "metadata": {
        "id": "8Xkzw_gvLiX6"
      },
      "execution_count": null,
      "outputs": []
    },
    {
      "cell_type": "code",
      "source": [
        "#WE HAVE THE SHORTEST AND LONGEST TRACKS"
      ],
      "metadata": {
        "id": "8ZPFYL5LMakb"
      },
      "execution_count": null,
      "outputs": []
    },
    {
      "cell_type": "code",
      "source": [
        "cols_to_correlate = ['danceability', 'energy', 'loudness', 'speechiness', 'acousticness', 'instrumentalness', 'liveness', 'valence', 'tempo']\n",
        "\n",
        "corr_matrix = df[cols_to_correlate].corr()\n",
        "\n",
        "plt.figure(figsize=(12, 10))\n",
        "sns.heatmap(corr_matrix, annot=True, cmap='coolwarm', vmin=-1, vmax=1, fmt='.2f', linewidths=.5)\n",
        "plt.title('Correlation Heatmap of Audio Features')\n",
        "plt.show()"
      ],
      "metadata": {
        "id": "nE9Dr9tII4uP"
      },
      "execution_count": null,
      "outputs": []
    },
    {
      "cell_type": "code",
      "source": [],
      "metadata": {
        "id": "VFK2m-CXLVwp"
      },
      "execution_count": null,
      "outputs": []
    }
  ]
}