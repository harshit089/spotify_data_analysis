{
  "metadata": {
    "kernelspec": {
      "language": "python",
      "display_name": "Python 3",
      "name": "python3"
    },
    "language_info": {
      "name": "python",
      "version": "3.7.6",
      "mimetype": "text/x-python",
      "codemirror_mode": {
        "name": "ipython",
        "version": 3
      },
      "pygments_lexer": "ipython3",
      "nbconvert_exporter": "python",
      "file_extension": ".py"
    },
    "kaggle": {
      "accelerator": "none",
      "dataSources": [
        {
          "sourceId": 5407,
          "databundleVersionId": 868283,
          "sourceType": "competition"
        },
        {
          "sourceId": 949064,
          "sourceType": "datasetVersion",
          "datasetId": 514915
        },
        {
          "sourceId": 1165189,
          "sourceType": "datasetVersion",
          "datasetId": 660141
        },
        {
          "sourceId": 1324264,
          "sourceType": "datasetVersion",
          "datasetId": 768129
        },
        {
          "sourceId": 32608455,
          "sourceType": "kernelVersion"
        }
      ],
      "dockerImageVersionId": 29926,
      "isInternetEnabled": false,
      "language": "python",
      "sourceType": "notebook",
      "isGpuEnabled": false
    },
    "colab": {
      "name": "Predicting Home Prices with Inferred Causality",
      "provenance": []
    }
  },
  "nbformat_minor": 0,
  "nbformat": 4,
  "cells": [
    {
      "source": [
        "# IMPORTANT: SOME KAGGLE DATA SOURCES ARE PRIVATE\n",
        "# RUN THIS CELL IN ORDER TO IMPORT YOUR KAGGLE DATA SOURCES.\n",
        "import kagglehub\n",
        "kagglehub.login()\n"
      ],
      "metadata": {
        "id": "HaLnrN4wRUad"
      },
      "cell_type": "code",
      "outputs": [],
      "execution_count": null
    },
    {
      "source": [
        "# IMPORTANT: RUN THIS CELL IN ORDER TO IMPORT YOUR KAGGLE DATA SOURCES,\n",
        "# THEN FEEL FREE TO DELETE THIS CELL.\n",
        "# NOTE: THIS NOTEBOOK ENVIRONMENT DIFFERS FROM KAGGLE'S PYTHON\n",
        "# ENVIRONMENT SO THERE MAY BE MISSING LIBRARIES USED BY YOUR\n",
        "# NOTEBOOK.\n",
        "\n",
        "house_prices_advanced_regression_techniques_path = kagglehub.competition_download('house-prices-advanced-regression-techniques')\n",
        "aavigan_consumer_price_index_usa_all_items_path = kagglehub.dataset_download('aavigan/consumer-price-index-usa-all-items')\n",
        "\n",
        "print('Data source import complete.')\n"
      ],
      "metadata": {
        "id": "5CKSSWZPRUag"
      },
      "cell_type": "code",
      "outputs": [],
      "execution_count": null
    },
    {
      "cell_type": "markdown",
      "source": [
        "# Predicting Home Prices with Inferred Causality"
      ],
      "metadata": {
        "id": "KiqcPps_RUah"
      }
    },
    {
      "cell_type": "markdown",
      "source": [
        "## The Data <a id = 'data'></a>\n",
        "\n",
        "The Ames Housing dataset was derived from a data dump obtained directly from the Ame's City Assessor's Office. The original data contained 113 variables describing 3970 property sales that occured in Ames Iowa between 2006-2010, however the data was edited to remove any variables that required specialized knowledge or were based on specialized calculations used by the assessor's office. After editing the data now contains 80 variables (23 nominal, 23 ordinal, 14 discrete, and 20 continuous) and 2930 observations. The data was collected and edited by Dean De Cock.\n"
      ],
      "metadata": {
        "id": "uks0_WsARUai"
      }
    },
    {
      "cell_type": "markdown",
      "source": [
        "## Read and Preprocess Data <a id = 'preprocess'></a>"
      ],
      "metadata": {
        "id": "NZ2j56PVRUai"
      }
    },
    {
      "cell_type": "markdown",
      "source": [
        "### Imports <a id = 'imports'></a>\n",
        "\n",
        "n particular take note of the <code>causality</code> package which is used to perform the IC algorithm. According to its github page it's still in its alpha phase of development so it's a little rough around the edges. I had to install an old version of networkx for the package to work. Check out the documentation on [Github](https://github.com/akelleh/causality)."
      ],
      "metadata": {
        "id": "l0htLo6wRUai"
      }
    },
    {
      "cell_type": "code",
      "source": [
        "import pandas as pd\n",
        "import numpy as np\n",
        "\n",
        "!pip install 'networkx == 2.3'\n",
        "!pip install causality\n",
        "\n",
        "\n",
        "import matplotlib.pyplot as plt\n",
        "import networkx as nx\n",
        "from causality.inference.search import IC\n",
        "from causality.inference.independence_tests import RobustRegressionTest\n",
        "from sklearn.preprocessing import (StandardScaler, RobustScaler)\n",
        "import seaborn as sns\n",
        "from sklearn.neighbors import LocalOutlierFactor\n",
        "from sklearn.preprocessing import PowerTransformer\n",
        "from sklearn.model_selection import learning_curve\n",
        "from sklearn.linear_model import (LinearRegression, HuberRegressor)\n",
        "from sklearn.metrics import mean_squared_error, make_scorer, mean_squared_log_error\n",
        "from sklearn.neighbors import KNeighborsRegressor\n",
        "import eli5\n",
        "from eli5.sklearn import PermutationImportance\n",
        "from sklearn.manifold import MDS\n",
        "\n",
        "from category_encoders import MEstimateEncoder\n"
      ],
      "metadata": {
        "_uuid": "d629ff2d2480ee46fbb7e2d37f6b5fab8052498a",
        "_cell_guid": "79c7e3d0-c299-4dcb-8224-4455121ee9b0",
        "_kg_hide-output": true,
        "_kg_hide-input": false,
        "trusted": true,
        "id": "LZTOU6kURUai"
      },
      "execution_count": null,
      "outputs": []
    },
    {
      "cell_type": "markdown",
      "source": [
        "### Read Data from CSV <a id = 'read'></a>\n",
        "\n",
        "Data is read from csv and train and test sets are combined for preprocessing."
      ],
      "metadata": {
        "id": "ga4wozRhRUai"
      }
    },
    {
      "cell_type": "code",
      "source": [
        "#read training set from csv\n",
        "X_train = pd.read_csv('/kaggle/input/house-prices-advanced-regression-techniques/train.csv', index_col = 'Id')\n",
        "\n",
        "#read test set from csv\n",
        "X_test = pd.read_csv('/kaggle/input/house-prices-advanced-regression-techniques/test.csv', index_col = 'Id')\n",
        "\n",
        "#separate target variable from the training set\n",
        "yt= X_train['SalePrice']\n",
        "\n",
        "#drop target variable from the training set\n",
        "X_train.drop('SalePrice', axis = 1, inplace = True)\n",
        "\n",
        "#comine X_train and X_test into a single set for preprocessing\n",
        "combined = pd.concat([X_train,X_test])\n",
        "\n",
        "#create a datetime series\n",
        "datetimes = combined.YrSold.astype(str)+'-'+combined.MoSold.astype(str)\n",
        "datetimes = pd.to_datetime(datetimes, format=\"%Y-%m\")\n",
        "datetimes = pd.DataFrame(datetimes, columns = ['Date'])\n"
      ],
      "metadata": {
        "_kg_hide-input": false,
        "trusted": true,
        "id": "6hq30Ew7RUaj"
      },
      "execution_count": null,
      "outputs": []
    },
    {
      "cell_type": "markdown",
      "source": [
        "### Handle Nans <a id = 'nans'></a>\n",
        "\n",
        "Nans are filled with there most likely meanings for some columns. For columns in which Nans don't have a likely meanng, Nans are filled with either the median value or the most frequent value depending on whether the variable are numerical or categorical."
      ],
      "metadata": {
        "id": "cZYcT0ltRUaj"
      }
    },
    {
      "cell_type": "code",
      "source": [
        "\n",
        "# Alley : data description says NA means \"no alley access\"\n",
        "combined.loc[:, \"Alley\"] = combined.loc[:, \"Alley\"].fillna(\"None\")\n",
        "# BedroomAbvGr : NA most likely means 0\n",
        "combined.loc[:, \"BedroomAbvGr\"] = combined.loc[:, \"BedroomAbvGr\"].fillna(0)\n",
        "# BsmtQual etc : data description says NA for basement features is \"no basement\"\n",
        "combined.loc[:, \"BsmtQual\"] = combined.loc[:, \"BsmtQual\"].fillna(\"No\")\n",
        "combined.loc[:, \"BsmtCond\"] = combined.loc[:, \"BsmtCond\"].fillna(\"No\")\n",
        "combined.loc[:, \"BsmtExposure\"] = combined.loc[:, \"BsmtExposure\"].fillna(\"No\")\n",
        "\n",
        "\n",
        "combined.loc[:, \"BsmtFinType1\"] = combined.loc[:, \"BsmtFinType1\"].fillna(\"No\")\n",
        "combined.loc[:, \"BsmtFinSF1\"] = combined.loc[:, \"BsmtFinSF1\"].fillna(0)\n",
        "combined.loc[:, \"BsmtFinSF2\"] = combined.loc[:, \"BsmtFinSF2\"].fillna(0)\n",
        "combined.loc[:, \"TotalBsmtSF\"] = combined.loc[:, \"TotalBsmtSF\"].fillna(0)\n",
        "\n",
        "combined.loc[:, \"BsmtFinType2\"] = combined.loc[:, \"BsmtFinType2\"].fillna(\"No\")\n",
        "combined.loc[:, \"BsmtFullBath\"] = combined.loc[:, \"BsmtFullBath\"].fillna(0)\n",
        "combined.loc[:, \"BsmtHalfBath\"] = combined.loc[:, \"BsmtHalfBath\"].fillna(0)\n",
        "combined.loc[:, \"BsmtUnfSF\"] = combined.loc[:, \"BsmtUnfSF\"].fillna(0)\n",
        "# CentralAir : NA most likely means No\n",
        "combined.loc[:, \"CentralAir\"] = combined.loc[:, \"CentralAir\"].fillna(\"N\")\n",
        "# Condition : NA most likely means Normal\n",
        "combined.loc[:, \"Condition1\"] = combined.loc[:, \"Condition1\"].fillna(\"Norm\")\n",
        "combined.loc[:, \"Condition2\"] = combined.loc[:, \"Condition2\"].fillna(\"Norm\")\n",
        "# EnclosedPorch : NA most likely means no enclosed porch\n",
        "combined.loc[:, \"EnclosedPorch\"] = combined.loc[:, \"EnclosedPorch\"].fillna(0)\n",
        "# External stuff : NA most likely means average\n",
        "combined.loc[:, \"ExterCond\"] = combined.loc[:, \"ExterCond\"].fillna(\"TA\")\n",
        "combined.loc[:, \"ExterQual\"] = combined.loc[:, \"ExterQual\"].fillna(\"TA\")\n",
        "# Fence : data description says NA means \"no fence\"\n",
        "combined.loc[:, \"Fence\"] = combined.loc[:, \"Fence\"].fillna(\"No\")\n",
        "# FireplaceQu : data description says NA means \"no fireplace\"\n",
        "combined.loc[:, \"FireplaceQu\"] = combined.loc[:, \"FireplaceQu\"].fillna(\"No\")\n",
        "combined.loc[:, \"Fireplaces\"] = combined.loc[:, \"Fireplaces\"].fillna(0)\n",
        "# Functional : data description says NA means typical\n",
        "combined.loc[:, \"Functional\"] = combined.loc[:, \"Functional\"].fillna(\"Typ\")\n",
        "# GarageType etc : data description says NA for garage features is \"no garage\"\n",
        "combined.loc[:, \"GarageType\"] = combined.loc[:, \"GarageType\"].fillna(\"No\")\n",
        "combined.loc[:, \"GarageFinish\"] = combined.loc[:, \"GarageFinish\"].fillna(\"No\")\n",
        "combined.loc[:, \"GarageQual\"] = combined.loc[:, \"GarageQual\"].fillna(\"No\")\n",
        "combined.loc[:, \"GarageCond\"] = combined.loc[:, \"GarageCond\"].fillna(\"No\")\n",
        "combined.loc[:, \"GarageArea\"] = combined.loc[:, \"GarageArea\"].fillna(0)\n",
        "combined.loc[:, \"GarageCars\"] = combined.loc[:, \"GarageCars\"].fillna(0)\n",
        "# HalfBath : NA most likely means no half baths above grade\n",
        "combined.loc[:, \"HalfBath\"] = combined.loc[:, \"HalfBath\"].fillna(0)\n",
        "# HeatingQC : NA most likely means typical\n",
        "combined.loc[:, \"HeatingQC\"] = combined.loc[:, \"HeatingQC\"].fillna(\"TA\")\n",
        "# KitchenAbvGr : NA most likely means 0\n",
        "combined.loc[:, \"KitchenAbvGr\"] = combined.loc[:, \"KitchenAbvGr\"].fillna(0)\n",
        "# KitchenQual : NA most likely means typical\n",
        "combined.loc[:, \"KitchenQual\"] = combined.loc[:, \"KitchenQual\"].fillna(\"TA\")\n",
        "# LotFrontage : NA most likely means no lot frontage\n",
        "combined.loc[:, \"LotFrontage\"] = combined.loc[:, \"LotFrontage\"].fillna(0)\n",
        "# LotShape : NA most likely means regular\n",
        "combined.loc[:, \"LotShape\"] = combined.loc[:, \"LotShape\"].fillna(\"Reg\")\n",
        "# MasVnrType : NA most likely means no veneer\n",
        "combined.loc[:, \"MasVnrType\"] = combined.loc[:, \"MasVnrType\"].fillna(\"None\")\n",
        "combined.loc[:, \"MasVnrArea\"] = combined.loc[:, \"MasVnrArea\"].fillna(0)\n",
        "# MiscFeature : data description says NA means \"no misc feature\"\n",
        "combined.loc[:, \"MiscFeature\"] = combined.loc[:, \"MiscFeature\"].fillna(\"No\")\n",
        "combined.loc[:, \"MiscVal\"] = combined.loc[:, \"MiscVal\"].fillna(0)\n",
        "# OpenPorchSF : NA most likely means no open porch\n",
        "combined.loc[:, \"OpenPorchSF\"] = combined.loc[:, \"OpenPorchSF\"].fillna(0)\n",
        "# PavedDrive : NA most likely means not paved\n",
        "combined.loc[:, \"PavedDrive\"] = combined.loc[:, \"PavedDrive\"].fillna(\"N\")\n",
        "# PoolQC : data description says NA means \"no pool\"\n",
        "combined.loc[:, \"PoolQC\"] = combined.loc[:, \"PoolQC\"].fillna(\"No\")\n",
        "combined.loc[:, \"PoolArea\"] = combined.loc[:, \"PoolArea\"].fillna(0)\n",
        "# SaleCondition : NA most likely means normal sale\n",
        "combined.loc[:, \"SaleCondition\"] = combined.loc[:, \"SaleCondition\"].fillna(\"Normal\")\n",
        "# ScreenPorch : NA most likely means no screen porch\n",
        "combined.loc[:, \"ScreenPorch\"] = combined.loc[:, \"ScreenPorch\"].fillna(0)\n",
        "# TotRmsAbvGrd : NA most likely means 0\n",
        "combined.loc[:, \"TotRmsAbvGrd\"] = combined.loc[:, \"TotRmsAbvGrd\"].fillna(0)\n",
        "# Utilities : NA most likely means all public utilities\n",
        "combined.loc[:, \"Utilities\"] = combined.loc[:, \"Utilities\"].fillna(\"AllPub\")\n",
        "# WoodDeckSF : NA most likely means no wood deck\n",
        "combined.loc[:, \"WoodDeckSF\"] = combined.loc[:, \"WoodDeckSF\"].fillna(0)\n",
        "\n",
        "combined.dropna(axis = 1, thresh = len(combined)*.8,inplace = True)\n",
        "\n",
        "columns_with_na = [col for col in combined.columns if len(combined[col].dropna()) < 2919]\n",
        "num_na = [(len(combined[col])-len(combined[col].dropna())) for col in columns_with_na]\n",
        "dtype_na = [(combined[col]).dtype for col in columns_with_na]\n",
        "df = pd.DataFrame([num_na,dtype_na], index = ['na_vals', 'dtype'], columns = columns_with_na)\n",
        "\n",
        "\n",
        "for column_name, column in df.iteritems():\n",
        "\n",
        "\n",
        "    if column['dtype'] == 'object':\n",
        "        combined[column_name].fillna(value = combined[column_name].value_counts(dropna =True).index[0], inplace = True)\n",
        "    else:\n",
        "        combined[column_name].fillna(value = combined[column_name].median(), inplace = True)"
      ],
      "metadata": {
        "_kg_hide-input": false,
        "trusted": true,
        "id": "vAHFbR90RUaj"
      },
      "execution_count": null,
      "outputs": []
    },
    {
      "cell_type": "markdown",
      "source": [
        "### Proper Encoding of Numerical/Categorical Features <a id = 'encoding'></a>\n",
        "\n",
        "Numerical features which are really categorical features are changed to strings to prepare for them for dummy encoding, while values of categorical features which can be represented as ordered numbers are changed to integers.\n"
      ],
      "metadata": {
        "id": "597-Z7JdRUaj"
      }
    },
    {
      "cell_type": "code",
      "source": [
        "# Some numerical features are actually really categories\n",
        "combined = combined.replace({\"MSSubClass\" : {20 : \"SC20\", 30 : \"SC30\", 40 : \"SC40\", 45 : \"SC45\",\n",
        "                                       50 : \"SC50\", 60 : \"SC60\", 70 : \"SC70\", 75 : \"SC75\",\n",
        "                                       80 : \"SC80\", 85 : \"SC85\", 90 : \"SC90\", 120 : \"SC120\",\n",
        "                                       150 : \"SC150\", 160 : \"SC160\", 180 : \"SC180\", 190 : \"SC190\"},\n",
        "                       \"MoSold\" : {1 : \"Jan\", 2 : \"Feb\", 3 : \"Mar\", 4 : \"Apr\", 5 : \"May\", 6 : \"Jun\",\n",
        "                                   7 : \"Jul\", 8 : \"Aug\", 9 : \"Sep\", 10 : \"Oct\", 11 : \"Nov\", 12 : \"Dec\"}\n",
        "                      })\n",
        "\n",
        "# Encode some categorical features as ordered numbers when there is information in the order\n",
        "combined = combined.replace({\"Alley\" : {\"Grvl\" : 1, \"Pave\" : 2},\n",
        "                       \"BsmtCond\" : {\"No\" : 0, \"Po\" : 1, \"Fa\" : 2, \"TA\" : 3, \"Gd\" : 4, \"Ex\" : 5},\n",
        "                       \"BsmtExposure\" : {\"No\" : 0, \"Mn\" : 1, \"Av\": 2, \"Gd\" : 3},\n",
        "                       \"BsmtFinType1\" : {\"No\" : 0, \"Unf\" : 1, \"LwQ\": 2, \"Rec\" : 3, \"BLQ\" : 4,\n",
        "                                         \"ALQ\" : 5, \"GLQ\" : 6},\n",
        "                       \"BsmtFinType2\" : {\"No\" : 0, \"Unf\" : 1, \"LwQ\": 2, \"Rec\" : 3, \"BLQ\" : 4,\n",
        "                                         \"ALQ\" : 5, \"GLQ\" : 6},\n",
        "                       \"BsmtQual\" : {\"No\" : 0, \"Po\" : 1, \"Fa\" : 2, \"TA\": 3, \"Gd\" : 4, \"Ex\" : 5},\n",
        "                       \"ExterCond\" : {\"Po\" : 1, \"Fa\" : 2, \"TA\": 3, \"Gd\": 4, \"Ex\" : 5},\n",
        "                       \"ExterQual\" : {\"Po\" : 1, \"Fa\" : 2, \"TA\": 3, \"Gd\": 4, \"Ex\" : 5},\n",
        "                       \"FireplaceQu\" : {\"No\" : 0, \"Po\" : 1, \"Fa\" : 2, \"TA\" : 3, \"Gd\" : 4, \"Ex\" : 5},\n",
        "                       \"Functional\" : {\"Sal\" : 1, \"Sev\" : 2, \"Maj2\" : 3, \"Maj1\" : 4, \"Mod\": 5,\n",
        "                                       \"Min2\" : 6, \"Min1\" : 7, \"Typ\" : 8},\n",
        "                       \"GarageCond\" : {\"No\" : 0, \"Po\" : 1, \"Fa\" : 2, \"TA\" : 3, \"Gd\" : 4, \"Ex\" : 5},\n",
        "                       \"GarageQual\" : {\"No\" : 0, \"Po\" : 1, \"Fa\" : 2, \"TA\" : 3, \"Gd\" : 4, \"Ex\" : 5},\n",
        "                       \"HeatingQC\" : {\"Po\" : 1, \"Fa\" : 2, \"TA\" : 3, \"Gd\" : 4, \"Ex\" : 5},\n",
        "                       \"KitchenQual\" : {\"Po\" : 1, \"Fa\" : 2, \"TA\" : 3, \"Gd\" : 4, \"Ex\" : 5},\n",
        "                       \"LandSlope\" : {\"Sev\" : 1, \"Mod\" : 2, \"Gtl\" : 3},\n",
        "                       \"LotShape\" : {\"IR3\" : 1, \"IR2\" : 2, \"IR1\" : 3, \"Reg\" : 4},\n",
        "                       \"PavedDrive\" : {\"N\" : 0, \"P\" : 1, \"Y\" : 2},\n",
        "                       \"PoolQC\" : {\"No\" : 0, \"Fa\" : 1, \"TA\" : 2, \"Gd\" : 3, \"Ex\" : 4},\n",
        "                       \"Street\" : {\"Grvl\" : 1, \"Pave\" : 2},\n",
        "                       \"Utilities\" : {\"ELO\" : 1, \"NoSeWa\" : 2, \"NoSewr\" : 3, \"AllPub\" : 4}}\n",
        "                     )\n"
      ],
      "metadata": {
        "_kg_hide-input": false,
        "trusted": true,
        "id": "35fYHO74RUaj"
      },
      "execution_count": null,
      "outputs": []
    },
    {
      "cell_type": "markdown",
      "source": [
        "### Feature Engineering\n",
        "\n",
        "I'm only going to create one additional feature entitled MoYrSold, which is simply a combination of the MoSold and YrSold features. The rationale behind this feature is to capture changes in price which are caused by market effects over time. It turns out that market effects play a pretty small role in this dataset due time span of the dataset. For instance, take a look at this house price index for Ames, Iowa shown on the Federal Reserve economic data [website](https://fred.stlouisfed.org/series/ATNHPIUS11180Q) which shows a relatively flat curve for the period between 2006 and 2010, over which the dataset was compiled. In general it is clear that market effects play a major role in housing prices over time, however, the 2007-2009 recession effectively halted price inflation in the Ames housing market for the particular period in question, which is why market effects over time is not a particularly important feature in the given dataset.\n",
        "\n"
      ],
      "metadata": {
        "id": "0Ffi2hBxRUaj"
      }
    },
    {
      "cell_type": "code",
      "source": [
        "combined['YrSold']=combined['YrSold'].astype(str)\n",
        "combined['MoYrSold']=combined['MoSold']+combined['YrSold']"
      ],
      "metadata": {
        "trusted": true,
        "id": "SAk6v74vRUaj"
      },
      "execution_count": null,
      "outputs": []
    },
    {
      "cell_type": "markdown",
      "source": [
        "### Encode Categoricals Variables <a id = 'dummies'></a>\n",
        "\n",
        "Categorical features are encoded using an m-estimator encoder. This is simply a variant of target encoding in which each category of a categorical feature is encoded using the estimated mean value of the target variable for that particular category. The tradeoff when using this type of encoding scheme versus dummy variable encoding is some loss in information for a reduction in dimensionality. In this case I’ve used both dummy and target encoding methods, and if anything have found a slight performance increase using target encoding. Further, the reduction in dimensionality significantly reduces the run time of the IC algorithm below.\n",
        "\n",
        "MEstimateEncoder takes one hyperparameter m, which is a regularization term. The optimal value for m was determined by trial and error.\n"
      ],
      "metadata": {
        "id": "FqCid5EDRUak"
      }
    },
    {
      "cell_type": "code",
      "source": [
        "\n",
        "categorical_columns = list(combined.select_dtypes(include = 'object').columns)\n",
        "\n",
        "\n",
        "encoder = MEstimateEncoder(cols = categorical_columns, drop_invariant = True, m = 15)\n",
        "\n",
        "X_train = combined.loc[X_train.index]\n",
        "X_test = combined.loc[X_test.index]\n",
        "\n",
        "X_train = encoder.fit_transform(X_train, yt)\n",
        "X_test = encoder.transform(X_test)\n",
        "\n",
        "combined  = pd.concat([X_train,X_test])\n",
        "\n"
      ],
      "metadata": {
        "_kg_hide-input": false,
        "trusted": true,
        "id": "tKbcwN46RUak"
      },
      "execution_count": null,
      "outputs": []
    },
    {
      "cell_type": "markdown",
      "source": [
        "### Scaling <a id = 'scaling'></a>\n",
        "\n",
        "Features are scaled using a standard scaler. I'm scaling prior to the power transforms because of a bug in the in sklearn's yeo-johnson method which returned columns of zeros for some of the columns. Scaling prior to transformation seemed to fix this issue."
      ],
      "metadata": {
        "id": "ZeEDcKQ5RUak"
      }
    },
    {
      "cell_type": "code",
      "source": [
        "scaler = StandardScaler()\n",
        "combined = pd.DataFrame(scaler.fit_transform(combined), columns = combined.columns, index = combined.index)\n",
        "\n"
      ],
      "metadata": {
        "_kg_hide-input": false,
        "trusted": true,
        "id": "zB1RLOSGRUak"
      },
      "execution_count": null,
      "outputs": []
    },
    {
      "cell_type": "markdown",
      "source": [
        "### Power Transforms <a id = 'power_transform'></a>\n",
        "\n",
        "Continuous variables are transformed to make the variables more normal-like using the yeo-johnson method."
      ],
      "metadata": {
        "id": "97ctn7ChRUak"
      }
    },
    {
      "cell_type": "code",
      "source": [
        "\n",
        "variable_types_all = {}\n",
        "for column_name, column in combined.iteritems():\n",
        "    if len(column.unique())<20:\n",
        "        variable_types_all[column_name] = 'd'\n",
        "\n",
        "    else:\n",
        "        variable_types_all[column_name] = 'c'\n",
        "\n",
        "\n",
        "for column in variable_types_all:\n",
        "\n",
        "    if (variable_types_all[column_name] == 'c') & (abs(combined[column].skew())>0.5):\n",
        "        pt = PowerTransformer(method = 'yeo-johnson')\n",
        "        combined[column] = pt.fit_transform(combined[column].to_numpy().reshape(-1,1))\n",
        "\n"
      ],
      "metadata": {
        "_kg_hide-input": false,
        "trusted": true,
        "id": "fSAUrHJtRUak"
      },
      "execution_count": null,
      "outputs": []
    },
    {
      "cell_type": "markdown",
      "source": [
        "### Split into Train and Test Sets <a id = 'split'></a>\n",
        "\n",
        "Preprocessed data is split back into train and test sets."
      ],
      "metadata": {
        "id": "GNb9nC94RUak"
      }
    },
    {
      "cell_type": "code",
      "source": [
        "X_train = combined[:len(X_train)]\n",
        "X_test = combined[len(X_train):]\n"
      ],
      "metadata": {
        "_kg_hide-input": false,
        "trusted": true,
        "id": "zBz3cdI3RUak"
      },
      "execution_count": null,
      "outputs": []
    },
    {
      "cell_type": "markdown",
      "source": [
        "## Feature Selection using IC Algorithm <a id = 'IC'></a>\n",
        "\n"
      ],
      "metadata": {
        "id": "mlz8RTZ3RUak"
      }
    },
    {
      "cell_type": "markdown",
      "source": [
        "### Remove Highly Corelated Features\n",
        "\n",
        "If two variables have more than 90% correlation one is removed since the two variables likely contain the same information."
      ],
      "metadata": {
        "id": "x7CWpwfRRUak"
      }
    },
    {
      "cell_type": "code",
      "source": [
        "\n",
        "\n",
        "df = X_train.copy()\n",
        "\n",
        "corr_df = df.corr().abs()\n",
        "mask = np.triu((np.ones_like(corr_df, dtype = bool)))\n",
        "tri_df = corr_df.mask(mask)\n",
        "\n",
        "to_drop = []\n",
        "\n",
        "for index, row in tri_df.iterrows():\n",
        "    for col in row.index:\n",
        "        if tri_df.loc[index, col]>.9:\n",
        "            to_drop.append((index, col))\n",
        "\n",
        "\n",
        "to_drop = [val[0] for val in to_drop]\n",
        "\n",
        "df = df.drop(to_drop, axis = 1)"
      ],
      "metadata": {
        "_kg_hide-input": false,
        "trusted": true,
        "id": "0RV_VZgPRUal"
      },
      "execution_count": null,
      "outputs": []
    },
    {
      "cell_type": "markdown",
      "source": [
        "### Run Inductive Causation (IC*) Algorithm\n",
        "\n",
        "The IC algorithm is run on all variables including sale price. The IC object takes  3 parameters: the conditional independence test to use (independence_test), the confidence interval to use (alpha), and the maximum number of variables used to attempt to block two variables from each other (k). The IC algorithm is run using the search method of the IC object, which takes two parameters data and variable_types. The data parameter is just your data. The variable_type is a dictionary with keys corresponding to column names and values corresponding to whether the variable is continuous 'c' or discrete 'd'. The search method returns a networkx graph where nodes correspond to variables and edges between variables representing possible causal links.\n",
        "\n",
        "The way the algorithm works is it starts with a networkx graph with nodes representing variables where all nodes are initially connected. Then for each variable pair, the algorithm tries to find a set of other variables that can block the dependence between the pair of variables. The dependence between two variables is considered blocked if the test is less than (1- alpha)X100 percent sure that a dependency exists. By setting alpha to .1 we are saying that we want to be at least 90% sure of dependency to continue with the algorithm. If the algorithm finds a set of variables that can block the dependency of the variables pair it cuts the edge between the pair. If it can't find a blocking set it continues with another pair of variables. Getting to the k parameter, k is the maximum number of variables used in the blocking set. By setting k to 1, we cap the blocking set to 1. As you can see, there is a trade-off between the stringency of the test and the time it takes to run the test.\n",
        "\n",
        "Setting k too high potentially makes the criteria too stringent and blocks useful variables from being returned. Since, I would rather cast a wider net here, I am setting k to 1. Another benefit of setting k to 1, is that it reduces the run time of the algorithm significantly, which also increases exponentially with the number of variables in the dataset.\n",
        "\n",
        "The chosen independence test is RobustRegressionTest, uses the confidence interval of the coefficient of a Huber regression as a measure of the confidence in the determined dependency. The algorithm decides whether to keep an edge between the two variables by comparing the determined confidence interval with the chosen alpha. By selecting this independence test we are effectively assuming a linear relationship.\n",
        "\n",
        "\n",
        "\n"
      ],
      "metadata": {
        "id": "cf99AbbFRUal"
      }
    },
    {
      "cell_type": "code",
      "source": [
        "variable_types = {}\n",
        "for column_name, column in df.iteritems():\n",
        "    if len(column.unique())<20:\n",
        "        variable_types[column_name] = 'd'\n",
        "\n",
        "    else:\n",
        "        variable_types[column_name] = 'c'\n",
        "\n",
        "\n",
        "variable_types['SalePrice'] = 'c'\n",
        "\n",
        "\n",
        "df = pd.concat([df, yt], axis = 1)\n",
        "\n",
        "ic_algorithm = IC(RobustRegressionTest, alpha = .1, k = 1)\n",
        "graph = ic_algorithm.search(df, variable_types)"
      ],
      "metadata": {
        "_kg_hide-input": false,
        "trusted": true,
        "id": "B2wRMf4lRUal"
      },
      "execution_count": null,
      "outputs": []
    },
    {
      "cell_type": "markdown",
      "source": [
        "### Plot Network of Variables\n",
        "\n",
        "The output of the IC algorithm is plotted below. Sale price is plotted in red.\n",
        "For the most part you should ignore the exact direction of the arrows as meaningful since technically, the arrowed edges can represent a causal relationship in either direction. In fact, the only edges of whose direction the algorithm is certain are those whose ‘marked’ attribute is equal to True. However, in this case even if the algorithm is not certain whether the sale price is a cause or an effect, using a little intuition we can assume that the sale price is caused by the physical attributes of the house rather than the other way around.\n",
        "\n"
      ],
      "metadata": {
        "id": "h10p4vkmRUal"
      }
    },
    {
      "cell_type": "code",
      "source": [
        "G = nx.DiGraph()\n",
        "G.add_edges_from(graph.edges(data=True))\n",
        "\n",
        "plt.figure(figsize=(15, 15))\n",
        "g = nx.drawing.kamada_kawai_layout(graph)\n",
        "\n",
        "nx.draw_networkx(G, g)\n",
        "\n",
        "nx.draw_networkx_nodes(graph, g, nodelist= ['SalePrice'], edgecolors='k', node_color = 'r')\n",
        "\n",
        "\n",
        "plt.show()\n"
      ],
      "metadata": {
        "_kg_hide-input": false,
        "trusted": true,
        "id": "0qhv1bbmRUal"
      },
      "execution_count": null,
      "outputs": []
    },
    {
      "cell_type": "markdown",
      "source": [
        "In order to build a model which accurately predicts the true effect of a set of variables x on a target variable y, given confounding paths z, it is necessary to satisfy the backdoor criterion. The backdoor criterion states that you need to condition on variables such that i)  you do not condition on any descendents of x and 2) that given confounding paths z, that you condition on a node along each confounding path such that you do not violate condition (i). An easy way to satisfy the backdoor criterion is to condition on all direct neighbors of the sale price.  Therefore, we will build a linear model using only direct neighbors of the sale price. The features which the algorithm found to have a direct effect on the sale price are shown below."
      ],
      "metadata": {
        "id": "n8v_eK5QRUal"
      }
    },
    {
      "cell_type": "code",
      "source": [
        "# find neighbors of SalePrice in graph\n",
        "features = list(nx.classes.function.neighbors(graph, 'SalePrice'))\n",
        "\n",
        "features"
      ],
      "metadata": {
        "_kg_hide-input": false,
        "trusted": true,
        "id": "yn6cU1LbRUal"
      },
      "execution_count": null,
      "outputs": []
    },
    {
      "cell_type": "markdown",
      "source": [
        "## Automatic Outlier Detection <a id = 'outliers'></a>\n",
        "\n",
        "The last step, before we validate our model is to create reduced test/train sets with only the determined causal features and to remove outliers. Here, I use an automatic outlier detection method called LocalOutlierFactor from sklearn. According to the documentation it measures the local deviation of density of a given sample with respect to its neighbors to calculate an anomaly score. By comparing the local density of a sample to the local densities of its neighbors. It identifies samples that have a substantially lower density than their neighbors, which it considers outliers. I am setting its contamination parameter which is the proportion of outliers in the dataset to be quite low (.005) to avoid removing too many observations. At this level of contamination the method only removes 8 observations. This step is important since while this dataset seems to only have a couple of outliers, these outliers can have a very large effect on evaluation scores."
      ],
      "metadata": {
        "id": "6bbida9fRUal"
      }
    },
    {
      "cell_type": "code",
      "source": [
        "#output of algorithm with just numerical features\n",
        "\n",
        "features = ['MSSubClass',\n",
        " 'LotArea',\n",
        " 'Neighborhood',\n",
        " 'OverallQual',\n",
        " 'YearRemodAdd',\n",
        " 'BsmtQual',\n",
        " 'BsmtExposure',\n",
        " 'TotalBsmtSF',\n",
        " '1stFlrSF',\n",
        " 'GrLivArea',\n",
        " 'KitchenQual',\n",
        " 'Fireplaces',\n",
        " 'GarageFinish',\n",
        " 'GarageCars',\n",
        " 'PavedDrive',\n",
        " 'WoodDeckSF']\n",
        "\n",
        "\n",
        "\n",
        "#create reduced train and test sets with causal features\n",
        "X_train_reduced = X_train.loc[:,features]\n",
        "X_test_reduced = X_test.loc[:,features]\n",
        "\n",
        "#log transform y\n",
        "y= pd.DataFrame(np.log1p(yt), columns = ['SalePrice'], index = yt.index)\n",
        "\n",
        "#perform automatic outlier detection to get rid of outliers\n",
        "lof = LocalOutlierFactor(contamination = .005)\n",
        "yhat = lof.fit_predict(X_train_reduced)\n",
        "mask = yhat != -1\n",
        "mask[523] = False\n",
        "mask[1298] = False\n",
        "mask[297] = False\n",
        "\n",
        "\n",
        "outlier_mask = yhat == -1\n",
        "\n",
        "\n",
        "outlier_mask[523] = True\n",
        "outlier_mask[1298] = True\n",
        "outlier_mask[297] = True\n",
        "y_outliers = y.loc[outlier_mask]\n",
        "\n",
        "\n",
        "#remove outliers from train set\n",
        "X_train_reduced_outliers =  X_train_reduced.loc[outlier_mask,:]\n",
        "X_train_reduced = X_train_reduced.loc[mask,:]\n",
        "y = y.loc[mask]\n",
        "\n"
      ],
      "metadata": {
        "_kg_hide-input": false,
        "trusted": true,
        "id": "Oq4kFCSlRUal"
      },
      "execution_count": null,
      "outputs": []
    },
    {
      "cell_type": "markdown",
      "source": [
        "## Model Validation <a id = 'validation'></a>"
      ],
      "metadata": {
        "id": "BGps0FzhRUal"
      }
    },
    {
      "cell_type": "markdown",
      "source": [
        "## Cross-Validation of Simple Linear Model\n",
        "\n",
        "\n",
        "Plotted below are learning curves for a simple linear model trained on the reduced training set with five-fold cross validation. I'm Using both the root mean error and log root mean error for evaluation. The former is a little more intuitive since it is measured in dollars, while the latter is the evaluation metric of the competition. As you can see the learning curve indicates that the model generalizes well to unseen data as indicated by the strong agreement between the training accuracy and the validation accuracy. The learning curve indicates that we can expect an RME of about $25000 and LRME of .14 on unseen data."
      ],
      "metadata": {
        "id": "eTzVk_ppRUal"
      }
    },
    {
      "cell_type": "code",
      "source": [
        "# define root mean error and log root mean error scoring functions\n",
        "def ms_score(y, ypred):\n",
        "    y = np.expm1(y)\n",
        "    ypred = np.expm1(ypred)\n",
        "    return mean_squared_error(y, ypred, squared = False)\n",
        "    #return np.sqrt(mean_squared_log_error(y, ypred))\n",
        "\n",
        "def lms_score(y, ypred):\n",
        "    return mean_squared_error(y, ypred, squared = False)\n",
        "\n",
        "ms_scorer = make_scorer(ms_score)\n",
        "lms_scorer = make_scorer(lms_score)\n",
        "\n",
        "#calculate learning curve results for ms_scorer and plot\n",
        "train_sizes, train_scores, valid_scores = learning_curve(LinearRegression(), X_train_reduced, y.to_numpy().ravel(), train_sizes=[50, 200, 400, 600,800, 1000, 1075], cv=5, scoring = ms_scorer)\n",
        "\n",
        "plt.style.use('ggplot')\n",
        "\n",
        "fig, (ax, ax1) = plt.subplots(1,2, figsize = (10, 5))\n",
        "\n",
        "ax.plot(train_sizes, np.mean(train_scores, axis = 1), label = 'training accuracy')\n",
        "ax.fill_between(train_sizes, np.mean(train_scores, axis = 1) + np.std(train_scores, axis = 1)/2, np.mean(train_scores, axis = 1) - np.std(train_scores, axis = 1)/2, interpolate = True, color='#888888', alpha=0.4)\n",
        "ax.plot(train_sizes, np.mean(valid_scores, axis = 1), label = 'validation accuracy')\n",
        "ax.fill_between(train_sizes, np.mean(valid_scores, axis = 1) + np.std(valid_scores, axis = 1)/2, np.mean(valid_scores, axis = 1) - np.std(valid_scores, axis = 1)/2, interpolate = True, color='#888888', alpha=0.4)\n",
        "ax.set_ylabel('Root Mean Error ($)')\n",
        "ax.set_xlabel('Train Sizes')\n",
        "ax.set_title('Root Mean Error')\n",
        "ax.legend(loc = 'upper right')\n",
        "\n",
        "#calculate learning curve results for lms and plot\n",
        "\n",
        "train_sizes, train_scores, valid_scores = learning_curve(LinearRegression(), X_train_reduced, y.to_numpy().ravel(), train_sizes=[50, 200, 400, 600,800, 1000, 1075], cv=5, scoring = lms_scorer)\n",
        "\n",
        "ax1.plot(train_sizes, np.mean(train_scores, axis = 1), label = 'training accuracy')\n",
        "ax1.fill_between(train_sizes, np.mean(train_scores, axis = 1) + np.std(train_scores, axis = 1)/2, np.mean(train_scores, axis = 1) - np.std(train_scores, axis = 1)/2, interpolate = True, color='#888888', alpha=0.4)\n",
        "ax1.plot(train_sizes, np.mean(valid_scores, axis = 1), label = 'validation accuracy')\n",
        "ax1.fill_between(train_sizes, np.mean(valid_scores, axis = 1) + np.std(valid_scores, axis = 1)/2, np.mean(valid_scores, axis = 1) - np.std(valid_scores, axis = 1)/2, interpolate = True, color='#888888', alpha=0.4)\n",
        "ax1.set_ylabel('Log Root Mean Error')\n",
        "ax1.set_xlabel('Train Sizes')\n",
        "ax1.set_title('Log Root Mean Error')\n",
        "ax1.legend(loc = 'upper right')\n",
        "\n",
        "plt.show()\n",
        "\n"
      ],
      "metadata": {
        "_kg_hide-input": false,
        "trusted": true,
        "id": "Kw0nUimdRUal"
      },
      "execution_count": null,
      "outputs": []
    },
    {
      "cell_type": "markdown",
      "source": [
        "## Model Performance on Unseen Test Data\n",
        "\n",
        "We can also evaluate the model’s performance on the unseen test data by reading in the sale-prices of the test data split. We can do this since this is a publicly available dataset. This should give us a good idea of how we would perform in the competition if we submitted the results of the given model. The only nuance here is that the true performance of the model is somewhat obscured by a handful of outliers in the test-data. Therefore, I decided to use the LocalOutlierFactor method to predict outliers in the test-set. Instead of using the linear model to predict these outliers, I instead train a knn regressor to predict these observations. As seen below, using this method of dealing with outliers the overall performance of the linear model is less obscured and more or less comports with our expectations from the learning curves. It performs slightly better on the RME score ($24000) but worse on the LRME score (.145).\n"
      ],
      "metadata": {
        "id": "ZraCEb2bRUal"
      }
    },
    {
      "cell_type": "code",
      "source": [
        "\n",
        "\n",
        "ypred = []\n",
        "\n",
        "#fit linear model to X_train_reduced to predict non-outlier values of X_test\n",
        "lr = LinearRegression()\n",
        "lr.fit(X_train_reduced, y.to_numpy().ravel())\n",
        "\n",
        "X_test_reduced = X_test.loc[:,features]\n",
        "\n",
        "\n",
        "\n",
        "\n",
        "\n",
        "#perform outlier detection on test set\n",
        "lof = LocalOutlierFactor(contamination = .005)\n",
        "yhat = lof.fit_predict(X_test_reduced)\n",
        "mask = yhat != -1\n",
        "\n",
        "mask = pd.DataFrame(mask, columns = ['mask'], index = X_test_reduced.index)\n",
        "\n",
        "#read in csv for SalePrice of test set for evaluation purposes\n",
        "y_val = pd.read_csv('/kaggle/input/perfect-score-for-evaluation-purposes/full-score.csv')\n",
        "y_val.set_index('Id', inplace = True)\n",
        "\n",
        "\n",
        "\n",
        "#define knn regressor to predict X_test outliers\n",
        "knn = KNeighborsRegressor(n_neighbors = 30)\n",
        "knn.fit(X_train_reduced, y)\n",
        "\n",
        "#predict outliers with knn regressor, predict non-outliers with linear regressor\n",
        "for i, row in mask.iterrows():\n",
        "    if row['mask'] == True:\n",
        "        pred = lr.predict(X_test_reduced.loc[i].to_numpy().reshape(1,-1))\n",
        "    else:\n",
        "        pred = knn.predict(X_test_reduced.loc[i].to_numpy().reshape(1,-1))\n",
        "\n",
        "\n",
        "    ypred.append(pred)\n",
        "\n",
        "\n",
        "ypred = np.array(ypred).ravel()\n",
        "\n",
        "ypred = np.expm1(ypred.astype(float))\n",
        "\n",
        "\n",
        "#calcualte and print root mean error and log root mean error scores\n",
        "print(mean_squared_error(y_val.SalePrice.to_numpy(),ypred, squared = False))\n",
        "print(np.sqrt(mean_squared_log_error(y_val.SalePrice.to_numpy(),ypred)))"
      ],
      "metadata": {
        "_kg_hide-input": false,
        "trusted": true,
        "id": "YPhSxcXSRUal"
      },
      "execution_count": null,
      "outputs": []
    },
    {
      "cell_type": "markdown",
      "source": [
        "We can also investigate the relative importance of the model variables in generalization to the test set through permutation importance measurements. The way it works is it considers how model performance reacts to scrambling or permuting the values in any given variable. The more important a variable is, the more the scrambling of the variable values should affect performance. As seen below, the most important features as measured by permutation importance are overall quality, ground living area, neighborhood and total basement area."
      ],
      "metadata": {
        "id": "kVKDrmc4RUap"
      }
    },
    {
      "cell_type": "code",
      "source": [
        "#Use permutation importance measures to evaluate which features generalized well to the test set\n",
        "\n",
        "ms_scorer = make_scorer(lms_score, greater_is_better = False)\n",
        "perm = PermutationImportance(lr, random_state=1, scoring = ms_scorer).fit(X_test_reduced,  np.log1p(y_val))\n",
        "df = pd.DataFrame(perm.feature_importances_, index = X_train_reduced.columns, columns = ['weights']).sort_values(by='weights', ascending = False)\n",
        "eli5.show_weights(perm, top = 60, feature_names = X_train_reduced.columns.tolist())"
      ],
      "metadata": {
        "_kg_hide-input": false,
        "trusted": true,
        "id": "s3z-41HcRUap"
      },
      "execution_count": null,
      "outputs": []
    },
    {
      "cell_type": "markdown",
      "source": [
        "## Find Additional Features by Running IC Algorithm on Model Errors <a id = 'IC2'></a>\n",
        "\n",
        "\n",
        "The initial model performs decently, but maybe we could improve performance with the inclusion of additional features. Here I propose that we use the IC algorithm to find new variables by seeing which variables have a causal relationship with the errors of the initial model. If the algorithm finds variables that cause the error that weren’t included in the initial model it might indicate that they should be included to boost performance. Alternatively, if  the IC algorithm returns variables that were already included in the model it might indicate that they should be removed since they might be the direct cause of the errors. Therefore, first we train a linear model using the training set. Then we make predictions on the same training set. The error is calculated by the difference between the predictions and the actual values of the sale price in the training set. A histogram of the errors is shown below. Finally, we run the IC algorithm on all variables including the calculated errors. As before the features of interest are the features which are direct neighbors of  the errors in the resultant graph.\n"
      ],
      "metadata": {
        "id": "XNPWjSARRUap"
      }
    },
    {
      "cell_type": "code",
      "source": [
        "#fit linear model to X_train_reduced\n",
        "lr = LinearRegression()\n",
        "lr.fit(X_train_reduced, y)\n",
        "\n",
        "#predict X_train_reduced\n",
        "y_pred = lr.predict(X_train_reduced)\n",
        "\n",
        "#calcualte errors\n",
        "errors =  np.expm1(y.to_numpy().ravel()) - np.expm1(y_pred).ravel()\n",
        "errors = pd.DataFrame(errors, columns = ['Error'], index = X_train_reduced.index)\n",
        "\n",
        "#plot histogram\n",
        "errors.hist(bins = 90)\n",
        "plt.show()\n"
      ],
      "metadata": {
        "_kg_hide-input": false,
        "trusted": true,
        "id": "ogeKZRzzRUap"
      },
      "execution_count": null,
      "outputs": []
    },
    {
      "cell_type": "code",
      "source": [
        "\n",
        "#run IC on total set of variables\n",
        "df = X_train.loc[errors.index]\n",
        "\n",
        "\n",
        "#determine variable types of df\n",
        "variable_types = {}\n",
        "for column_name, column in df.iteritems():\n",
        "    if len(column.unique())<20:\n",
        "        variable_types[column_name] = 'd'\n",
        "\n",
        "    else:\n",
        "        variable_types[column_name] = 'c'\n",
        "\n",
        "\n",
        "variable_types['Error'] = 'c'\n",
        "\n",
        "#concat df with errors\n",
        "df = pd.concat([df, errors], axis = 1)\n",
        "\n",
        "#run IC algorithm\n",
        "ic_algorithm = IC(RobustRegressionTest, alpha = .1, k = 1)\n",
        "graph2 = ic_algorithm.search(df, variable_types)\n",
        "\n",
        "#find direct neighbors of errors\n",
        "new_features = list(nx.classes.function.neighbors(graph2, 'Error'))\n",
        "new_features\n"
      ],
      "metadata": {
        "_kg_hide-input": false,
        "trusted": true,
        "id": "YCfKHBDpRUap"
      },
      "execution_count": null,
      "outputs": []
    },
    {
      "cell_type": "markdown",
      "source": [
        "The results of the IC algorithm are stored in the new_features variable below. If we were to re-validate the model by adding these variables to the previously found features it would boost model performance to about .122. For the sake of brevity I am also going to include some additional features found to boost model performance. These additional features were found by running the IC algorithm with a less stringent alpha, or by running the IC algorithm with a removed feature. Some are guesses based on what was deemed important by IC based on dummy variable encoding of the categoricals.\n"
      ],
      "metadata": {
        "id": "KWp8etk2RUap"
      }
    },
    {
      "cell_type": "markdown",
      "source": [
        "['OverallCond',\n",
        " 'BsmtFinSF1',\n",
        " 'BsmtUnfSF',\n",
        " 'KitchenAbvGr',\n",
        " 'Functional',\n",
        " 'ScreenPorch']"
      ],
      "metadata": {
        "id": "yjYC78fORUap"
      }
    },
    {
      "cell_type": "code",
      "source": [
        "new_features =['OverallCond',\n",
        " 'BsmtFinSF1',\n",
        " 'BsmtUnfSF',\n",
        " 'Functional',\n",
        " 'ScreenPorch',\n",
        " 'SaleCondition']\n",
        "\n",
        "new_features = new_features + ['CentralAir',\n",
        "'YearBuilt',\n",
        "'BldgType',\n",
        "'MSZoning',\n",
        "'YrSold',\n",
        "'Condition1'\n",
        "]\n"
      ],
      "metadata": {
        "_kg_hide-input": true,
        "trusted": true,
        "id": "vi-7vr_zRUap"
      },
      "execution_count": null,
      "outputs": []
    },
    {
      "cell_type": "markdown",
      "source": [
        "## Updated Model Validation <a id = 'validation2'></a>"
      ],
      "metadata": {
        "id": "QH2eB29ERUap"
      }
    },
    {
      "cell_type": "markdown",
      "source": [
        "### Prepare Data for Updated Model Validation\n",
        "\n",
        "Train and test sets are prepared for validation, by subsetting the datasets to include only the identified causal features and performing automatic outlier detection to remove outliers from the training set."
      ],
      "metadata": {
        "id": "n4FH-uJHRUap"
      }
    },
    {
      "cell_type": "code",
      "source": [
        "\n",
        "#add new features to features\n",
        "new_features = [feature for feature in new_features if feature not in features]\n",
        "features = new_features + features\n",
        "\n",
        "#create X_train_reduced and X_test_reduced from causal features\n",
        "X_train_reduced = X_train.loc[:,features]\n",
        "\n",
        "\n",
        "X_test_reduced = X_test.loc[:,features]\n",
        "\n",
        "#log transform y\n",
        "y= pd.DataFrame(np.log1p(yt), columns = ['SalePrice'], index = yt.index)\n",
        "\n",
        "#automatic outlier detection for X_train reduced\n",
        "lof = LocalOutlierFactor(contamination = .005)\n",
        "yhat = lof.fit_predict(X_train_reduced)\n",
        "mask = yhat != -1\n",
        "mask[523] = False\n",
        "mask[1298] = False\n",
        "mask[297] = False\n",
        "\n",
        "\n",
        "outlier_mask = yhat == -1\n",
        "\n",
        "\n",
        "outlier_mask[523] = True\n",
        "outlier_mask[1298] = True\n",
        "outlier_mask[297] = True\n",
        "y_outliers = y.loc[outlier_mask]\n",
        "\n",
        "#remove outliers from train set\n",
        "y_outliers = y.loc[outlier_mask]\n",
        "X_train_reduced_outliers =  X_train_reduced.loc[outlier_mask,:]\n",
        "X_train_reduced = X_train_reduced.loc[mask,:]\n",
        "y = y.loc[mask]\n"
      ],
      "metadata": {
        "_kg_hide-input": false,
        "trusted": true,
        "id": "I4EQqZAwRUap"
      },
      "execution_count": null,
      "outputs": []
    },
    {
      "cell_type": "markdown",
      "source": [
        "### Cross-Validation of Updated Model\n",
        "\n",
        "The learning curves below indicate that the updated model performs better than the orignal model in cross valdation on the traning set. For instance, the RME is now below $23,000 and the LRME is about .116, as shown below."
      ],
      "metadata": {
        "id": "e8hnTu7KRUaq"
      }
    },
    {
      "cell_type": "code",
      "source": [
        "\n",
        "# define root mean error and log root mean error functions\n",
        "def ms_score(y, ypred):\n",
        "    y = np.expm1(y)\n",
        "    ypred = np.expm1(ypred).astype(int)\n",
        "    return mean_squared_error(y, ypred, squared = False)\n",
        "    #return np.sqrt(mean_squared_log_error(y, ypred))\n",
        "\n",
        "def lms_score(y, ypred):\n",
        "    return mean_squared_error(y, ypred, squared = False)\n",
        "\n",
        "ms_scorer = make_scorer(ms_score)\n",
        "lms_scorer = make_scorer(lms_score)\n",
        "\n",
        "#calculate and plot learning curves for ms_scorer\n",
        "train_sizes, train_scores, valid_scores = learning_curve(LinearRegression(), X_train_reduced, y.to_numpy().ravel(), train_sizes=[400, 600,800, 1000, 1100], cv=5, scoring = ms_scorer)\n",
        "\n",
        "plt.style.use('ggplot')\n",
        "\n",
        "fig, (ax, ax1) = plt.subplots(1,2, figsize = (10, 5))\n",
        "\n",
        "ax.plot(train_sizes, np.mean(train_scores, axis = 1), label = 'training accuracy')\n",
        "ax.fill_between(train_sizes, np.mean(train_scores, axis = 1) + np.std(train_scores, axis = 1)/2, np.mean(train_scores, axis = 1) - np.std(train_scores, axis = 1)/2, interpolate = True, color='#888888', alpha=0.4)\n",
        "ax.plot(train_sizes, np.mean(valid_scores, axis = 1), label = 'validation accuracy')\n",
        "ax.fill_between(train_sizes, np.mean(valid_scores, axis = 1) + np.std(valid_scores, axis = 1)/2, np.mean(valid_scores, axis = 1) - np.std(valid_scores, axis = 1)/2, interpolate = True, color='#888888', alpha=0.4)\n",
        "ax.set_ylabel('Root Mean Error ($)')\n",
        "ax.set_xlabel('Train Sizes')\n",
        "ax.set_title('Root Mean Error')\n",
        "ax.legend(loc = 'upper right')\n",
        "\n",
        "#calculate and plot learning curves for lms_scorer\n",
        "train_sizes, train_scores, valid_scores = learning_curve(LinearRegression(), X_train_reduced, y.to_numpy().ravel(), train_sizes=[ 400, 600,800, 1000, 1035], cv=5, scoring = lms_scorer)\n",
        "\n",
        "ax1.plot(train_sizes, np.mean(train_scores, axis = 1), label = 'training accuracy')\n",
        "ax1.fill_between(train_sizes, np.mean(train_scores, axis = 1) + np.std(train_scores, axis = 1)/2, np.mean(train_scores, axis = 1) - np.std(train_scores, axis = 1)/2, interpolate = True, color='#888888', alpha=0.4)\n",
        "ax1.plot(train_sizes, np.mean(valid_scores, axis = 1), label = 'validation accuracy')\n",
        "ax1.fill_between(train_sizes, np.mean(valid_scores, axis = 1) + np.std(valid_scores, axis = 1)/2, np.mean(valid_scores, axis = 1) - np.std(valid_scores, axis = 1)/2, interpolate = True, color='#888888', alpha=0.4)\n",
        "ax1.set_ylabel('Log Root Mean Error')\n",
        "ax1.set_xlabel('Train Sizes')\n",
        "ax1.set_title('Log Root Mean Error')\n",
        "ax1.legend(loc = 'upper right')\n",
        "\n",
        "plt.show()\n",
        "\n"
      ],
      "metadata": {
        "_kg_hide-input": false,
        "trusted": true,
        "id": "K2O1rGN7RUaq"
      },
      "execution_count": null,
      "outputs": []
    },
    {
      "cell_type": "markdown",
      "source": [
        "### Validation of Updated Model on Unseen Test Data\n",
        "\n",
        "Now we evaluate the updated model on the unseen test data. Similar to before we use the local outlier factor method  to identify outliers in the test data and use knn to predict the sale price of the outliers. In this case we set the contamination factor to a very low value. This effectively only uses knn to predict the sale price of a single observation.\n"
      ],
      "metadata": {
        "id": "5Jv-hmWXRUaq"
      }
    },
    {
      "cell_type": "code",
      "source": [
        "ypred = []\n",
        "\n",
        "\n",
        "\n",
        "#add new features to features\n",
        "new_features = [feature for feature in new_features if feature not in features]\n",
        "features = new_features + features\n",
        "\n",
        "#create X_train_reduced and X_test_reduced from causal features\n",
        "X_train_reduced = X_train.loc[:,features]\n",
        "X_test_reduced = X_test.loc[:,features]\n",
        "\n",
        "X_train_reduced = pd.get_dummies(X_train_reduced, columns = ['OverallQual',  'Functional'], drop_first = True)\n",
        "X_test_reduced = pd.get_dummies(X_test_reduced, columns = ['OverallQual', 'Functional'], drop_first = True)\n",
        "\n",
        "\n",
        "#log transform y\n",
        "y= pd.DataFrame(np.log1p(yt), columns = ['SalePrice'], index = yt.index)\n",
        "\n",
        "#automatic outlier detection for X_train reduced\n",
        "lof = LocalOutlierFactor(contamination = .005)\n",
        "yhat = lof.fit_predict(X_train_reduced)\n",
        "mask = yhat != -1\n",
        "mask[523] = False\n",
        "mask[1298] = False\n",
        "mask[297] = False\n",
        "\n",
        "\n",
        "outlier_mask = yhat == -1\n",
        "\n",
        "\n",
        "outlier_mask[523] = True\n",
        "outlier_mask[1298] = True\n",
        "outlier_mask[297] = True\n",
        "y_outliers = y.loc[outlier_mask]\n",
        "\n",
        "#remove outliers from train set\n",
        "y_outliers = y.loc[outlier_mask]\n",
        "X_train_reduced_outliers =  X_train_reduced.loc[outlier_mask,:]\n",
        "X_train_reduced = X_train_reduced.loc[mask,:]\n",
        "y = y.loc[mask]\n",
        "\n",
        "\n",
        "lr = LinearRegression()\n",
        "lr.fit(X_train_reduced, y.to_numpy().ravel())\n",
        "\n",
        "\n",
        "y_val = pd.read_csv('/kaggle/input/perfect-score-for-evaluation-purposes/full-score.csv')\n",
        "\n",
        "\n",
        "\n",
        "lof = LocalOutlierFactor(contamination = .0001)\n",
        "yhat = lof.fit_predict(X_test_reduced)\n",
        "mask = yhat != -1\n",
        "\n",
        "mask = pd.DataFrame(mask, columns = ['mask'], index = X_test_reduced.index)\n",
        "\n",
        "\n",
        "y_val = pd.read_csv('/kaggle/input/perfect-score-for-evaluation-purposes/full-score.csv')\n",
        "y_val.set_index('Id', inplace = True)\n",
        "\n",
        "\n",
        "\n",
        "from sklearn.neighbors import KNeighborsRegressor\n",
        "\n",
        "knn = KNeighborsRegressor(n_neighbors = 1)\n",
        "knn.fit(X_train_reduced_outliers, y_outliers)\n",
        "\n",
        "n_out = 0\n",
        "\n",
        "for i, row in mask.iterrows():\n",
        "    if row['mask'] == True:\n",
        "        pred = lr.predict(X_test_reduced.loc[i].to_numpy().reshape(1,-1))\n",
        "\n",
        "    else:\n",
        "        pred = knn.predict(X_test_reduced.loc[i].to_numpy().reshape(1,-1))\n",
        "        n_out = n_out + 1\n",
        "\n",
        "    ypred.append(pred)\n",
        "\n",
        "\n",
        "ypred = np.array(ypred).ravel()\n",
        "\n",
        "ypred = np.expm1(ypred.astype(float))\n",
        "\n",
        "\n",
        "\n",
        "print(mean_squared_error(y_val.SalePrice.to_numpy(),ypred, squared = False))\n",
        "print(np.sqrt(mean_squared_log_error(y_val.SalePrice.to_numpy(),ypred)))\n",
        "\n",
        "#calcualte and plot histogram of errors\n",
        "errors =  y_val.SalePrice - ypred\n",
        "errors.hist(bins= 100)\n",
        "plt.show()"
      ],
      "metadata": {
        "_kg_hide-input": true,
        "trusted": true,
        "id": "q-TvgEg3RUaq"
      },
      "execution_count": null,
      "outputs": []
    },
    {
      "cell_type": "markdown",
      "source": [
        "## Create Submission File <a id = 'submission'></a>\n",
        "\n",
        "The submission file is created using the predicted sales prices."
      ],
      "metadata": {
        "id": "x-XlyMVgRUaq"
      }
    },
    {
      "cell_type": "code",
      "source": [
        "#create submission file\n",
        "submission = pd.DataFrame(ypred, index = X_test_reduced.index, columns = ['SalePrice'])\n",
        "submission.to_csv('submission.csv', index = True)"
      ],
      "metadata": {
        "_kg_hide-input": true,
        "trusted": true,
        "id": "EpsjLw-ORUar"
      },
      "execution_count": null,
      "outputs": []
    },
    {
      "cell_type": "markdown",
      "source": [
        "## Model Explanation/Feature Importances <a id = 'explanation'></a>\n",
        "\n",
        "Using permutation importances we can get a sense of how each variable contributes to model performance. Based on the table below the five most important features are ground living area, overall quality, overall condition, total basement surface area and neighborhood. Other important features include the year the house was built, the area of the lot, the condition of the sale and the number of cars that fit in the garage. One positive aspect of using a causal approach to feature selection is that it yields a simple intuitive model which also compares favorably in terms of performance relative to more complex and less interpretable models. For instance, we only use simple linear regression without any regularization and with a log root mean squared error of .1187 we can expect to be in the top 5% of kaggle submissions. Definitely not the best model out there, but also by far not the worst.\n"
      ],
      "metadata": {
        "id": "5M6-rIlCRUar"
      }
    },
    {
      "cell_type": "code",
      "source": [
        "X_train_reduced = X_train.loc[:,features]\n",
        "X_test_reduced = X_test.loc[:,features]\n",
        "\n",
        "\n",
        "#log transform y\n",
        "y= pd.DataFrame(np.log1p(yt), columns = ['SalePrice'], index = yt.index)\n",
        "\n",
        "#automatic outlier detection for X_train reduced\n",
        "lof = LocalOutlierFactor(contamination = .005)\n",
        "yhat = lof.fit_predict(X_train_reduced)\n",
        "mask = yhat != -1\n",
        "mask[523] = False\n",
        "mask[1298] = False\n",
        "mask[297] = False\n",
        "\n",
        "\n",
        "outlier_mask = yhat == -1\n",
        "\n",
        "\n",
        "outlier_mask[523] = True\n",
        "outlier_mask[1298] = True\n",
        "outlier_mask[297] = True\n",
        "y_outliers = y.loc[outlier_mask]\n",
        "\n",
        "#remove outliers from train set\n",
        "y_outliers = y.loc[outlier_mask]\n",
        "X_train_reduced_outliers =  X_train_reduced.loc[outlier_mask,:]\n",
        "X_train_reduced = X_train_reduced.loc[mask,:]\n",
        "y = y.loc[mask]\n",
        "\n",
        "\n",
        "lr = LinearRegression()\n",
        "lr.fit(X_train_reduced, y.to_numpy().ravel())\n",
        "\n",
        "\n",
        "ms_scorer = make_scorer(lms_score, greater_is_better = False)\n",
        "perm = PermutationImportance(lr, random_state=1, scoring = ms_scorer).fit(X_test_reduced.loc[y_val.index],  np.log1p(y_val))\n",
        "eli5.show_weights(perm, top = 107, feature_names = X_train_reduced.columns.tolist())\n"
      ],
      "metadata": {
        "_kg_hide-input": false,
        "trusted": true,
        "id": "7u4uUrIURUar"
      },
      "execution_count": null,
      "outputs": []
    },
    {
      "cell_type": "markdown",
      "source": [
        "### Example: Median Discount for Lack of Central Air\n",
        "\n",
        "Another potential benefit of trying to build a model based on actual causal effects is that assuming the model is complete and satisfies the backdoor criterion, as explained, above the model would better predict intervention into the system. For instance, assuming that we owned a house whose current price is about the median price in the dataset, how much could we reasonably expect the price of the house to increase if we installed central air? Below I simulate this scenario by taking the difference between a median valued house with and without central air. As can be seen below, our current model predicts a difference of about $14,605. To tell you the truth I have no idea if that is actually accurate, but assuming we've taken into account all confounding variables we should be able to at least estimate such an intervention. Therefore, if we were hypothetically selling a house without central air we could better decide based on the cost of installation whether it would be worth it to install central air, or perform other remodelling work.\n"
      ],
      "metadata": {
        "id": "-7IjoW_aRUar"
      }
    },
    {
      "cell_type": "code",
      "source": [
        "#calcualte the effect of non having central air on a house having a median base price\n",
        "c = np.unique(X_train_reduced.CentralAir)*(-.021609)\n",
        "print(np.expm1(c[0] + np.median(y))- np.expm1(c[1] + np.median(y)))"
      ],
      "metadata": {
        "_kg_hide-input": false,
        "trusted": true,
        "id": "45E-AN3gRUar"
      },
      "execution_count": null,
      "outputs": []
    },
    {
      "cell_type": "markdown",
      "source": [
        "## Visualization of Model Performance <a id = 'visualize'></a>\n",
        "\n",
        "This is just a visualization of model performance. I use dimensional reduction techniques to plot the data color coded by sale price. The background is colored to conform with the model's expected price in the dimensionally reduced space. The more the color coded data points conform with the expected background color the better the model."
      ],
      "metadata": {
        "id": "go-2sf2xRUar"
      }
    },
    {
      "cell_type": "code",
      "source": [
        "X_train_reduced = X_train.loc[:,features]\n",
        "X_train_reduced = pd.get_dummies(X_train_reduced, columns = ['OverallQual',  'Functional'], drop_first = True)\n",
        "\n",
        "y= pd.DataFrame(np.log1p(yt), columns = ['SalePrice'], index = yt.index)\n",
        "\n",
        "\n",
        "lof = LocalOutlierFactor(contamination = .005)\n",
        "yhat = lof.fit_predict(X_train_reduced)\n",
        "mask = yhat != -1\n",
        "mask[523] = False\n",
        "mask[1298] = False\n",
        "mask[297] = False\n",
        "\n",
        "\n",
        "X_train_reduced = X_train_reduced.loc[mask,:]\n",
        "y = y.loc[mask]\n",
        "\n",
        "X_embedded  = MDS(n_components=2).fit_transform(X_train_reduced)\n",
        "\n",
        "\n",
        "resolution = 100\n",
        "\n",
        "\n",
        "lr = LinearRegression()\n",
        "lr.fit(X_train_reduced, y.to_numpy().ravel())\n",
        "lr_predicted = lr.predict(X_train_reduced)\n",
        "\n",
        "X2d_xmin, X2d_xmax = np.min(X_embedded[:,0]), np.max(X_embedded[:,0])\n",
        "\n",
        "X2d_ymin, X2d_ymax = np.min(X_embedded[:,1]), np.max(X_embedded[:,1])\n",
        "\n",
        "xx, yy = np.meshgrid(np.linspace(X2d_xmin, X2d_xmax, resolution), np.linspace(X2d_ymin, X2d_ymax, resolution))\n",
        "\n",
        "background_model= LinearRegression().fit(X_embedded, lr_predicted)\n",
        "\n",
        "Background = background_model.predict(np.c_[xx.ravel(), yy.ravel()])\n",
        "\n",
        "\n",
        "Background = Background.reshape((resolution, resolution))\n",
        "\n",
        "\n",
        "\n",
        "from matplotlib.ticker import MaxNLocator\n",
        "from matplotlib.colors import BoundaryNorm\n",
        "\n",
        "fig, (ax) = plt.subplots(1,1, figsize = (10,10))\n",
        "\n",
        "levels = MaxNLocator(nbins=15).tick_values(Background.min(), Background.max())\n",
        "cmap = plt.get_cmap('PiYG')\n",
        "norm = BoundaryNorm(levels, ncolors=cmap.N, clip=True)\n",
        "\n",
        "\n",
        "cs = ax.contourf(xx, yy, Background, alpha = .5, levels=levels,\n",
        "                  cmap=cmap)\n",
        "\n",
        "\n",
        "ax.scatter(X_embedded[:,0], X_embedded[:,1], c=y.to_numpy(), cmap = cmap, norm = norm)\n",
        "plt.colorbar(cs, ax= ax)\n",
        "plt.show()\n",
        "\n"
      ],
      "metadata": {
        "_kg_hide-input": false,
        "trusted": true,
        "id": "5MIhI6dlRUar"
      },
      "execution_count": null,
      "outputs": []
    },
    {
      "cell_type": "markdown",
      "source": [
        "## Conclusion <a id = 'conclusion'></a>\n",
        "\n",
        "In conclusion, I think this notebook demonstrates that the inferred causality algorithm can be a powerful tool for feature selection which can yield a model which performs well in prediction tasks but is also explainable according to actual cause and effect relationships between the features and the target variable."
      ],
      "metadata": {
        "id": "6vcvufeGRUar"
      }
    }
  ]
}